{
 "cells": [
  {
   "cell_type": "code",
   "execution_count": 1,
   "metadata": {},
   "outputs": [],
   "source": [
    "import numpy as np\n",
    "import numpy as numpy\n",
    "import cv2\n",
    "from scipy.fftpack import dct, idct, dctn, idctn\n",
    "import math\n",
    "import heapq\n",
    "import numpy as np\n",
    "from collections import defaultdict\n",
    "import pickle\n",
    "from pympler import asizeof\n",
    "from functions import pad_array, compress, decompress,set_bitrate,img_set,make_dict,save_file,load_file,dimg_set,send_mc, get_mc, blockshaped,load_file_vid\n"
   ]
  },
  {
   "attachments": {},
   "cell_type": "markdown",
   "metadata": {},
   "source": [
    "### image"
   ]
  },
  {
   "cell_type": "code",
   "execution_count": 7,
   "metadata": {},
   "outputs": [],
   "source": [
    "gray_image = cv2.imread('lk.jpg', cv2.IMREAD_GRAYSCALE)\n",
    "img = np.asarray(gray_image)\n",
    "img = pad_array(img)"
   ]
  },
  {
   "cell_type": "code",
   "execution_count": 31,
   "metadata": {},
   "outputs": [
    {
     "data": {
      "text/plain": [
       "300.744"
      ]
     },
     "execution_count": 31,
     "metadata": {},
     "output_type": "execute_result"
    }
   ],
   "source": [
    "ori_size = asizeof.asizeof(img)/1000\n",
    "ori_size"
   ]
  },
  {
   "cell_type": "code",
   "execution_count": 32,
   "metadata": {},
   "outputs": [],
   "source": [
    "cv2.imshow('',gray_image)\n",
    "cv2.waitKey(0)\n",
    "cv2.destroyAllWindows()"
   ]
  },
  {
   "cell_type": "code",
   "execution_count": 8,
   "metadata": {},
   "outputs": [
    {
     "data": {
      "text/plain": [
       "True"
      ]
     },
     "execution_count": 8,
     "metadata": {},
     "output_type": "execute_result"
    }
   ],
   "source": [
    "cv2.imwrite('gray_lk.jpg',gray_image)"
   ]
  },
  {
   "cell_type": "code",
   "execution_count": 6,
   "metadata": {},
   "outputs": [],
   "source": [
    "bitrate_quality = set_bitrate(420,img,0.0001,1,0.0001)"
   ]
  },
  {
   "cell_type": "code",
   "execution_count": 33,
   "metadata": {},
   "outputs": [],
   "source": [
    "bitrate_quality = 3"
   ]
  },
  {
   "cell_type": "code",
   "execution_count": 63,
   "metadata": {},
   "outputs": [],
   "source": [
    "bitrate_quality = 1"
   ]
  },
  {
   "cell_type": "code",
   "execution_count": 34,
   "metadata": {},
   "outputs": [],
   "source": [
    "\n",
    "huffman_codes, encode = compress(img_set(img,bitrate_quality))\n",
    "dic = make_dict(huffman_codes, encode, img.shape)\n",
    "dic['quality'] = bitrate_quality\n",
    "save_file(dic, \"com_img\")"
   ]
  },
  {
   "cell_type": "code",
   "execution_count": 38,
   "metadata": {},
   "outputs": [],
   "source": [
    "def img_compress(input_name:str,output_name:str,qunt_level=1.0):\n",
    "    gray_image = cv2.imread(input_name+'.jpg', cv2.IMREAD_GRAYSCALE)\n",
    "    img = np.asarray(gray_image)\n",
    "    img = pad_array(img)\n",
    "    huffman_codes, encode = compress(img_set(img,qunt_level))\n",
    "    dic = make_dict(huffman_codes, encode, img.shape)\n",
    "    dic['quality'] = qunt_level\n",
    "    save_file(dic,output_name)"
   ]
  },
  {
   "cell_type": "code",
   "execution_count": 53,
   "metadata": {},
   "outputs": [],
   "source": [
    "def img_compress_bitrate(input_name:str,output_name:str,bit_rate):\n",
    "    gray_image = cv2.imread(input_name+'.jpg', cv2.IMREAD_GRAYSCALE)\n",
    "    img = np.asarray(gray_image)\n",
    "    img = pad_array(img)\n",
    "    qunt_level = set_bitrate(bit_rate,img,0.0001,200,0.0001)\n",
    "    huffman_codes, encode = compress(img_set(img,qunt_level))\n",
    "    dic = make_dict(huffman_codes, encode, img.shape)\n",
    "    dic['quality'] = qunt_level\n",
    "    save_file(dic,output_name)"
   ]
  },
  {
   "cell_type": "code",
   "execution_count": 54,
   "metadata": {},
   "outputs": [],
   "source": [
    "img_compress_bitrate(\"120\",\"com_120_br\",300)"
   ]
  },
  {
   "cell_type": "code",
   "execution_count": 39,
   "metadata": {},
   "outputs": [],
   "source": [
    "img_compress(\"120\",\"com_120\",3)"
   ]
  },
  {
   "cell_type": "code",
   "execution_count": 56,
   "metadata": {},
   "outputs": [],
   "source": [
    "def img_decompress(input_name:str,output_name:str):\n",
    "    code, data, shape, quality = load_file(input_name)\n",
    "    decom = decompress(data, shape, code)\n",
    "    output_img = dimg_set(decom,shape,quality)\n",
    "    result = cv2.normalize(output_img, dst=None, alpha=0, beta=255,norm_type=cv2.NORM_MINMAX, dtype=cv2.CV_8U)\n",
    "    cv2.imwrite(output_name + '.jpg',result)"
   ]
  },
  {
   "cell_type": "code",
   "execution_count": 57,
   "metadata": {},
   "outputs": [],
   "source": [
    "img_decompress(\"com_120_br\",\"de_120_br\")"
   ]
  },
  {
   "cell_type": "code",
   "execution_count": 65,
   "metadata": {},
   "outputs": [
    {
     "data": {
      "text/plain": [
       "203.552"
      ]
     },
     "execution_count": 65,
     "metadata": {},
     "output_type": "execute_result"
    }
   ],
   "source": [
    "com_size = asizeof.asizeof(dic)/1000\n",
    "com_size"
   ]
  },
  {
   "cell_type": "code",
   "execution_count": 66,
   "metadata": {},
   "outputs": [
    {
     "data": {
      "text/plain": [
       "2.1795708221977677"
      ]
     },
     "execution_count": 66,
     "metadata": {},
     "output_type": "execute_result"
    }
   ],
   "source": [
    "cr = ori_size/com_size\n",
    "cr"
   ]
  },
  {
   "cell_type": "code",
   "execution_count": 52,
   "metadata": {},
   "outputs": [
    {
     "data": {
      "text/plain": [
       "True"
      ]
     },
     "execution_count": 52,
     "metadata": {},
     "output_type": "execute_result"
    }
   ],
   "source": [
    "code, data, shape, quality = load_file(\"com_img\")\n",
    "decom = decompress(data, shape, code)\n",
    "output_img = dimg_set(decom,shape,quality)\n",
    "result = cv2.normalize(output_img, dst=None, alpha=0, beta=255,norm_type=cv2.NORM_MINMAX, dtype=cv2.CV_8U)\n",
    "cv2.imwrite('test.jpg',result)"
   ]
  },
  {
   "cell_type": "code",
   "execution_count": 48,
   "metadata": {},
   "outputs": [],
   "source": [
    "cv2.imshow(\"\",output_img)\n",
    "cv2.waitKey(0)\n",
    "cv2.destroyAllWindows()"
   ]
  },
  {
   "attachments": {},
   "cell_type": "markdown",
   "metadata": {},
   "source": [
    "### video"
   ]
  },
  {
   "cell_type": "code",
   "execution_count": 59,
   "metadata": {},
   "outputs": [],
   "source": [
    "video = cv2.VideoCapture('10 sec new.mp4')\n",
    "\n",
    "if not video.isOpened():\n",
    "    print(\"Error opening video file\")\n",
    "    exit()\n",
    "\n",
    "ret, frame = video.read()\n",
    "frames = []\n",
    "\n",
    "while ret:\n",
    "    frame = cv2.cvtColor(frame, cv2.COLOR_BGR2GRAY)\n",
    "    frame_array = np.array(frame)\n",
    "    frames.append(frame_array)\n",
    "    ret, frame = video.read()\n",
    "video.release()\n",
    "frames_array = np.array(frames)\n",
    "frame_test = frames_array[0:30]"
   ]
  },
  {
   "cell_type": "code",
   "execution_count": 36,
   "metadata": {},
   "outputs": [
    {
     "data": {
      "text/plain": [
       "29.036312000000002"
      ]
     },
     "execution_count": 36,
     "metadata": {},
     "output_type": "execute_result"
    }
   ],
   "source": [
    "asizeof.asizeof(frames_array)/1000/1000"
   ]
  },
  {
   "cell_type": "code",
   "execution_count": null,
   "metadata": {},
   "outputs": [],
   "source": [
    "def vid_compress(self,Vid_name:str,output_name:str,frames=0,quality=1):\n",
    "    video = cv2.VideoCapture(vid_name)\n",
    "\n",
    "    if not video.isOpened():\n",
    "        print(\"Error opening video file\")\n",
    "        exit()\n",
    "\n",
    "    ret, frame = video.read()\n",
    "    frames = []\n",
    "    count = 1\n",
    "    while ret:\n",
    "        count = count+1\n",
    "        frame = cv2.cvtColor(frame, cv2.COLOR_BGR2GRAY)\n",
    "        frame_array = np.array(frame)\n",
    "        frames.append(frame_array)\n",
    "        ret, frame = video.read()\n",
    "    video.release()\n",
    "    frames_array = np.array(frames)\n",
    "    if frames = 0:\n",
    "        frame_test = frames_array[0:count]\n",
    "    else:\n",
    "        frame_test = frames_array[0:frames]\n",
    "    \n",
    "    first = pad_array(frame_test[0])\n",
    "    send_dict = {}\n",
    "    quality = quality\n",
    "    huffman_codes, encode = compress(img_set(first,quality))\n",
    "    dic = make_dict(huffman_codes, encode, first.shape)\n",
    "    dic[\"frames\"] = frame_test.shape[0]\n",
    "    dic['quality'] = quality\n",
    "    send_dict = {\"frame0\" : dic}\n",
    "    \n",
    "    for j in range(frame_test.shape[0]-1):\n",
    "        dic = {}\n",
    "        current1 = pad_array(frame_test[j+1])\n",
    "        previous1 = pad_array(frame_test[0])\n",
    "        mc = get_mc(current1,previous1)\n",
    "        send =  send_mc(mc)\n",
    "        pre_block = blockshaped(previous1,8,8)\n",
    "        recon_img = np.zeros(pre_block.shape)\n",
    "\n",
    "        for i in range(recon_img.shape[0]):\n",
    "            recon_img[i] = pre_block[mc[i]]\n",
    "\n",
    "        recon_img1 = recon_img.reshape(current1.shape)\n",
    "        residual = current1 - recon_img1\n",
    "        quality = quality\n",
    "        huffman_codes, encode = compress(img_set(residual,quality))\n",
    "        dic = make_dict(huffman_codes, encode, first.shape)\n",
    "        dic[\"mv\"] = send\n",
    "        dic['quality'] = quality\n",
    "\n",
    "        send_dict[\"frame\"+str(j+1)] = dic\n",
    "        \n",
    "        save_file(send_dict, output_name)"
   ]
  },
  {
   "cell_type": "code",
   "execution_count": 61,
   "metadata": {},
   "outputs": [],
   "source": [
    "first = pad_array(frame_test[0])\n",
    "send_dict = {}\n",
    "quality = 3\n",
    "huffman_codes, encode = compress(img_set(first,quality))\n",
    "dic = make_dict(huffman_codes, encode, first.shape)\n",
    "dic[\"frames\"] = frame_test.shape[0]\n",
    "dic['quality'] = quality\n",
    "send_dict = {\"frame0\" : dic}\n",
    "\n"
   ]
  },
  {
   "cell_type": "code",
   "execution_count": 5,
   "metadata": {},
   "outputs": [
    {
     "data": {
      "text/plain": [
       "0.5068271713256836"
      ]
     },
     "execution_count": 5,
     "metadata": {},
     "output_type": "execute_result"
    }
   ],
   "source": [
    "quality"
   ]
  },
  {
   "cell_type": "code",
   "execution_count": 62,
   "metadata": {},
   "outputs": [],
   "source": [
    "for j in range(frame_test.shape[0]-1):\n",
    "  dic = {}\n",
    "  current1 = pad_array(frame_test[j+1])\n",
    "  previous1 = pad_array(frame_test[0])\n",
    "  mc = get_mc(current1,previous1)\n",
    "  send =  send_mc(mc)\n",
    "  pre_block = blockshaped(previous1,8,8)\n",
    "  recon_img = np.zeros(pre_block.shape)\n",
    "\n",
    "  for i in range(recon_img.shape[0]):\n",
    "      recon_img[i] = pre_block[mc[i]]\n",
    "\n",
    "  recon_img1 = recon_img.reshape(current1.shape)\n",
    "  residual = current1 - recon_img1\n",
    "  quality = 3\n",
    "  huffman_codes, encode = compress(img_set(residual,quality))\n",
    "  dic = make_dict(huffman_codes, encode, first.shape)\n",
    "  dic[\"mv\"] = send\n",
    "  dic['quality'] = quality\n",
    "\n",
    "  send_dict[\"frame\"+str(j+1)] = dic\n",
    "  \n",
    "  "
   ]
  },
  {
   "cell_type": "code",
   "execution_count": 35,
   "metadata": {},
   "outputs": [
    {
     "data": {
      "text/plain": [
       "83.35433599999999"
      ]
     },
     "execution_count": 35,
     "metadata": {},
     "output_type": "execute_result"
    }
   ],
   "source": [
    "asizeof.asizeof(send_dict)/1000/1000"
   ]
  },
  {
   "cell_type": "code",
   "execution_count": 33,
   "metadata": {},
   "outputs": [
    {
     "data": {
      "text/plain": [
       "0.3483479491696749"
      ]
     },
     "execution_count": 33,
     "metadata": {},
     "output_type": "execute_result"
    }
   ],
   "source": [
    "asizeof.asizeof(frame_test)/asizeof.asizeof(send_dict)"
   ]
  },
  {
   "cell_type": "code",
   "execution_count": 63,
   "metadata": {},
   "outputs": [],
   "source": [
    "save_file(send_dict, \"com_vid_all\")"
   ]
  },
  {
   "cell_type": "code",
   "execution_count": null,
   "metadata": {},
   "outputs": [],
   "source": [
    "def vid_decompress(file_name):\n",
    "    code, data, shape, frames, mv, quality = load_file_vid(file_name)\n",
    "    decom_vid = np.zeros((frames , shape[0],shape[1]))  #residual\n",
    "    final = np.zeros((frames , shape[0],shape[1]))      #final\n",
    "    mv_img = np.zeros((frames-1 , shape[0],shape[1]))   #reconstructed\n",
    "\n",
    "    for i in range(frames):\n",
    "    decom = decompress(data[i], shape, code[\"frame\"+str(i)])\n",
    "    decom_vid[i] = dimg_set(decom,shape,quality[i])\n",
    "    \n",
    "    img = blockshaped(decom_vid[0],8,8)\n",
    "\n",
    "    real_mv = []\n",
    "    new_mv = mv\n",
    "    for j in range(len(mv)):\n",
    "    tem_mv = []\n",
    "    for k in range(img.shape[0]):\n",
    "        tem_mv.append((k,k))\n",
    "    da = np.array(tem_mv)\n",
    "    for i in range(len(new_mv[j])):\n",
    "        da[new_mv[j][i][0]][1] = new_mv[j][i][1]\n",
    "    real_mv.append((da))\n",
    "    \n",
    "    for j in range(len(real_mv)):\n",
    "    recon_img1 = np.zeros(img.shape)\n",
    "    for i in range(recon_img.shape[0]):\n",
    "        recon_img1[i] = img[real_mv[j][i][1]]\n",
    "    mv_img[j] = recon_img1.reshape(decom_vid[0].shape)\n",
    "    \n",
    "    final[0] = decom_vid[0]\n",
    "    for i in range(1,len(real_mv)):\n",
    "    final[i] = mv_img[i] + decom_vid[i]\n",
    "    \n",
    "    return final"
   ]
  },
  {
   "cell_type": "code",
   "execution_count": 64,
   "metadata": {},
   "outputs": [],
   "source": [
    "code, data, shape, frames, mv, quality = load_file_vid(\"com_vid_all\")"
   ]
  },
  {
   "cell_type": "code",
   "execution_count": null,
   "metadata": {},
   "outputs": [],
   "source": [
    "quality"
   ]
  },
  {
   "cell_type": "code",
   "execution_count": 22,
   "metadata": {},
   "outputs": [],
   "source": [
    "from matplotlib import pyplot as plt"
   ]
  },
  {
   "cell_type": "code",
   "execution_count": 32,
   "metadata": {},
   "outputs": [
    {
     "data": {
      "image/png": "[encoded data removed]",
      "text/plain": [
       "<Figure size 432x288 with 1 Axes>"
      ]
     },
     "metadata": {
      "needs_background": "light"
     },
     "output_type": "display_data"
    },
    {
     "data": {
      "text/plain": [
       "<Figure size 432x288 with 0 Axes>"
      ]
     },
     "metadata": {},
     "output_type": "display_data"
    }
   ],
   "source": [
    "plt.plot(quality)\n",
    "plt.title('Q factors for each frame')\n",
    "plt.xlabel(\"Frames\")\n",
    "plt.ylabel('Q factor')\n",
    "plt.grid()\n",
    "plt.show()\n",
    "plt.savefig(\"qua.png\")"
   ]
  },
  {
   "cell_type": "code",
   "execution_count": 65,
   "metadata": {},
   "outputs": [],
   "source": [
    "decom_vid = np.zeros((frames , shape[0],shape[1]))  #residual\n",
    "final = np.zeros((frames , shape[0],shape[1]))      #final\n",
    "mv_img = np.zeros((frames-1 , shape[0],shape[1]))   #reconstructed\n",
    "\n",
    "for i in range(frames):\n",
    "  decom = decompress(data[i], shape, code[\"frame\"+str(i)])\n",
    "  decom_vid[i] = dimg_set(decom,shape,quality[i])\n",
    "  \n",
    "img = blockshaped(decom_vid[0],8,8)\n",
    "\n",
    "real_mv = []\n",
    "new_mv = mv\n",
    "for j in range(len(mv)):\n",
    "  tem_mv = []\n",
    "  for k in range(img.shape[0]):\n",
    "    tem_mv.append((k,k))\n",
    "  da = np.array(tem_mv)\n",
    "  for i in range(len(new_mv[j])):\n",
    "    da[new_mv[j][i][0]][1] = new_mv[j][i][1]\n",
    "  real_mv.append((da))\n",
    "  \n",
    "for j in range(len(real_mv)):\n",
    "  recon_img1 = np.zeros(img.shape)\n",
    "  for i in range(recon_img.shape[0]):\n",
    "    recon_img1[i] = img[real_mv[j][i][1]]\n",
    "  mv_img[j] = recon_img1.reshape(decom_vid[0].shape)\n",
    "  \n",
    "final[0] = decom_vid[0]\n",
    "for i in range(1,len(real_mv)):\n",
    "  final[i] = mv_img[i] + decom_vid[i]"
   ]
  },
  {
   "cell_type": "code",
   "execution_count": 71,
   "metadata": {},
   "outputs": [],
   "source": [
    "for i in range(frames):\n",
    "    cv2.imshow(\"\",final[i])\n",
    "    cv2.waitKey(30)\n",
    "cv2.destroyAllWindows()"
   ]
  },
  {
   "cell_type": "code",
   "execution_count": 19,
   "metadata": {},
   "outputs": [],
   "source": [
    "cv2.imshow(\"\",decom_vid[95])\n",
    "cv2.waitKey(0)\n",
    "cv2.destroyAllWindows()"
   ]
  },
  {
   "cell_type": "code",
   "execution_count": 133,
   "metadata": {},
   "outputs": [],
   "source": [
    "output_filename = 'output_video6.avi'\n",
    "codec = cv2.VideoWriter_fourcc(*'MJPG')  # You can choose the codec based on the file extension\n",
    "fps = 30  # Frames per second\n",
    "frame_size = shape  # Set the width and height of each frame in pixels\n",
    "\n",
    "# Create the VideoWriter object\n",
    "video_writer = cv2.VideoWriter(output_filename, codec, fps, frame_size, isColor = False)\n",
    "\n",
    "for frame in final:\n",
    "    # Convert the frame to the appropriate format (e.g., uint8)\n",
    "    frame = np.uint8(frame)\n",
    "\n",
    "    # Write the frame to the video file\n",
    "    video_writer.write(frame)\n",
    "\n",
    "video_writer.release()"
   ]
  }
 ],
 "metadata": {
  "kernelspec": {
   "display_name": "base",
   "language": "python",
   "name": "python3"
  },
  "language_info": {
   "codemirror_mode": {
    "name": "ipython",
    "version": 3
   },
   "file_extension": ".py",
   "mimetype": "text/x-python",
   "name": "python",
   "nbconvert_exporter": "python",
   "pygments_lexer": "ipython3",
   "version": "3.11.3"
  },
  "orig_nbformat": 4
 },
 "nbformat": 4,
 "nbformat_minor": 2
}
